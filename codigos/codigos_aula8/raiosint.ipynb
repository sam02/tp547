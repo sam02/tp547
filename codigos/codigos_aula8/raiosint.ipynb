{
  "nbformat": 4,
  "nbformat_minor": 0,
  "metadata": {
    "colab": {
      "provenance": []
    },
    "kernelspec": {
      "name": "python3",
      "display_name": "Python 3"
    },
    "language_info": {
      "name": "python"
    }
  },
  "cells": [
    {
      "cell_type": "code",
      "source": [
        "!pip install scipy\n",
        "!pip install matplotlib\n",
        "!pip install numpy"
      ],
      "metadata": {
        "colab": {
          "base_uri": "https://localhost:8080/"
        },
        "id": "xoBnMh3TdFd9",
        "outputId": "a8997d7d-1e78-423a-b84c-c7ac8b7cda86"
      },
      "execution_count": null,
      "outputs": [
        {
          "output_type": "stream",
          "name": "stdout",
          "text": [
            "Requirement already satisfied: scipy in /usr/local/lib/python3.10/dist-packages (1.11.4)\n",
            "Requirement already satisfied: numpy<1.28.0,>=1.21.6 in /usr/local/lib/python3.10/dist-packages (from scipy) (1.25.2)\n",
            "Requirement already satisfied: matplotlib in /usr/local/lib/python3.10/dist-packages (3.7.1)\n",
            "Requirement already satisfied: contourpy>=1.0.1 in /usr/local/lib/python3.10/dist-packages (from matplotlib) (1.2.0)\n",
            "Requirement already satisfied: cycler>=0.10 in /usr/local/lib/python3.10/dist-packages (from matplotlib) (0.12.1)\n",
            "Requirement already satisfied: fonttools>=4.22.0 in /usr/local/lib/python3.10/dist-packages (from matplotlib) (4.50.0)\n",
            "Requirement already satisfied: kiwisolver>=1.0.1 in /usr/local/lib/python3.10/dist-packages (from matplotlib) (1.4.5)\n",
            "Requirement already satisfied: numpy>=1.20 in /usr/local/lib/python3.10/dist-packages (from matplotlib) (1.25.2)\n",
            "Requirement already satisfied: packaging>=20.0 in /usr/local/lib/python3.10/dist-packages (from matplotlib) (24.0)\n",
            "Requirement already satisfied: pillow>=6.2.0 in /usr/local/lib/python3.10/dist-packages (from matplotlib) (9.4.0)\n",
            "Requirement already satisfied: pyparsing>=2.3.1 in /usr/local/lib/python3.10/dist-packages (from matplotlib) (3.1.2)\n",
            "Requirement already satisfied: python-dateutil>=2.7 in /usr/local/lib/python3.10/dist-packages (from matplotlib) (2.8.2)\n",
            "Requirement already satisfied: six>=1.5 in /usr/local/lib/python3.10/dist-packages (from python-dateutil>=2.7->matplotlib) (1.16.0)\n",
            "Requirement already satisfied: numpy in /usr/local/lib/python3.10/dist-packages (1.25.2)\n"
          ]
        }
      ]
    },
    {
      "cell_type": "code",
      "execution_count": null,
      "metadata": {
        "colab": {
          "base_uri": "https://localhost:8080/"
        },
        "id": "bZg24_sNL6lg",
        "outputId": "62f5935a-29b4-44ad-b6ba-0b75affd3276"
      },
      "outputs": [
        {
          "output_type": "stream",
          "name": "stdout",
          "text": [
            "3089\n",
            "5.411980033707749\n"
          ]
        }
      ],
      "source": [
        "import numpy as np\n",
        "import matplotlib.pyplot as plt\n",
        "import scipy.stats as sci\n",
        "alpha=4\n",
        "P=10\n",
        "N0=1\n",
        "R=10\n",
        "area=np.pi*R**2\n",
        "lambda1=10\n",
        "N=np.random.poisson(area*lambda1)\n",
        "print(N)\n",
        "X=np.array([])\n",
        "Y=np.array([])\n",
        "for i in range(1,N+1):\n",
        "    angulo = np.random.uniform(0,1)*2*np.pi\n",
        "    raio= R*np.sqrt(np.random.uniform(0,1))\n",
        "    x = raio * np.cos(angulo)\n",
        "    y = raio * np.sin(angulo)\n",
        "    X = np.append(X, x)\n",
        "    Y = np.append(Y, y)\n",
        "dist=np.sqrt(X**2+Y**2)\n",
        "lambda1=dist**(-alpha)\n",
        "expsamples=np.random.exponential(1,N)\n",
        "interferencia=sum(P/N0*lambda1*expsamples)/N\n",
        "print(interferencia)\n",
        "\n",
        "\n"
      ]
    }
  ]
}
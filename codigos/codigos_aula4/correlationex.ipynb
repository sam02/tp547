{
  "nbformat": 4,
  "nbformat_minor": 0,
  "metadata": {
    "colab": {
      "provenance": [],
      "authorship_tag": "ABX9TyNAX5PU8E9H/e65V4HSfc4g",
      "include_colab_link": true
    },
    "kernelspec": {
      "name": "python3",
      "display_name": "Python 3"
    },
    "language_info": {
      "name": "python"
    }
  },
  "cells": [
    {
      "cell_type": "markdown",
      "metadata": {
        "id": "view-in-github",
        "colab_type": "text"
      },
      "source": [
        "<a href=\"https://colab.research.google.com/github/sam02/tp547/blob/main/codigos/codigos_aula4/correlationex.ipynb\" target=\"_parent\"><img src=\"https://colab.research.google.com/assets/colab-badge.svg\" alt=\"Open In Colab\"/></a>"
      ]
    },
    {
      "cell_type": "code",
      "execution_count": null,
      "metadata": {
        "id": "3AC-AGApK7Ro"
      },
      "outputs": [],
      "source": [
        "!pip install seaborn\n",
        "!pip install matplotlib\n",
        "!pip install numpy"
      ]
    },
    {
      "cell_type": "code",
      "source": [
        "import numpy as np\n",
        "import matplotlib.pyplot as plt\n",
        "import seaborn as sns\n",
        "\n",
        "\n",
        "X= np.array([2.1, 2.5, 3.6, 4.0])\n",
        "\n",
        "Y = np.array([8, 10, 12, 14])\n",
        "\n",
        "C = np.corrcoef(X,Y)\n",
        "\n",
        "print(C)\n",
        "\n",
        "sns.heatmap(C, annot = True)\n",
        "plt.show()"
      ],
      "metadata": {
        "id": "j_-s0LVBK84B"
      },
      "execution_count": null,
      "outputs": []
    }
  ]
}
{
  "nbformat": 4,
  "nbformat_minor": 0,
  "metadata": {
    "colab": {
      "provenance": [],
      "authorship_tag": "ABX9TyNRJoB4Uik7OY35HO4CgGJF",
      "include_colab_link": true
    },
    "kernelspec": {
      "name": "python3",
      "display_name": "Python 3"
    },
    "language_info": {
      "name": "python"
    }
  },
  "cells": [
    {
      "cell_type": "markdown",
      "metadata": {
        "id": "view-in-github",
        "colab_type": "text"
      },
      "source": [
        "<a href=\"https://colab.research.google.com/github/sam02/tp547/blob/main/codigos/codigos_aula4/corrvardependent.ipynb\" target=\"_parent\"><img src=\"https://colab.research.google.com/assets/colab-badge.svg\" alt=\"Open In Colab\"/></a>"
      ]
    },
    {
      "cell_type": "code",
      "execution_count": null,
      "metadata": {
        "id": "TILPmR7WMK0G"
      },
      "outputs": [],
      "source": [
        "!pip install numpy"
      ]
    },
    {
      "cell_type": "code",
      "source": [
        "import numpy as np\n",
        "# seed random number generator\n",
        "np.random.seed(1)\n",
        "# prepare data\n",
        "data1 = 20 * np.random.normal(0,1,1000) + 100\n",
        "data2 = data1 + (10 * np.random.normal(0,1,1000) + 50)\n",
        "\n",
        "\n",
        "C = np.corrcoef(data1,data2)\n",
        "print(C)"
      ],
      "metadata": {
        "id": "5vAIoOAkMLnv"
      },
      "execution_count": null,
      "outputs": []
    }
  ]
}
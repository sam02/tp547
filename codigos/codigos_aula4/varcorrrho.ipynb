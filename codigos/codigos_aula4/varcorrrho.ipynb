{
  "nbformat": 4,
  "nbformat_minor": 0,
  "metadata": {
    "colab": {
      "provenance": [],
      "authorship_tag": "ABX9TyM3X3m6TVPwQTpJMF4iHKEu",
      "include_colab_link": true
    },
    "kernelspec": {
      "name": "python3",
      "display_name": "Python 3"
    },
    "language_info": {
      "name": "python"
    }
  },
  "cells": [
    {
      "cell_type": "markdown",
      "metadata": {
        "id": "view-in-github",
        "colab_type": "text"
      },
      "source": [
        "<a href=\"https://colab.research.google.com/github/sam02/tp547/blob/main/codigos/codigos_aula4/varcorrrho.ipynb\" target=\"_parent\"><img src=\"https://colab.research.google.com/assets/colab-badge.svg\" alt=\"Open In Colab\"/></a>"
      ]
    },
    {
      "cell_type": "code",
      "execution_count": null,
      "metadata": {
        "id": "Xbv2TsZkMl5d"
      },
      "outputs": [],
      "source": [
        "!pip install numpy\n",
        "!pip install matplotlib"
      ]
    },
    {
      "cell_type": "code",
      "source": [
        "import numpy as np\n",
        "import matplotlib.pyplot as plt\n",
        "\n",
        "np.random.seed(10)\n",
        "rho=-0.999\n",
        "X=np.random.normal(0,1,1000)\n",
        "Y=np.random.normal(0,1,1000)\n",
        "\n",
        "z=rho*X+pow(1-rho**2,0.5)*Y\n",
        "\n",
        "C = np.corrcoef(X,z)\n",
        "print(C)\n",
        "\n",
        "plt.plot(X,z,'o')\n",
        "plt.show()"
      ],
      "metadata": {
        "id": "QblzwO1UMnP1"
      },
      "execution_count": null,
      "outputs": []
    }
  ]
}
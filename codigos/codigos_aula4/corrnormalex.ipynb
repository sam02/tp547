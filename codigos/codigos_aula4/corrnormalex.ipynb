{
  "nbformat": 4,
  "nbformat_minor": 0,
  "metadata": {
    "colab": {
      "provenance": [],
      "authorship_tag": "ABX9TyM0H4bt31qtjQLM6vV6gcSM",
      "include_colab_link": true
    },
    "kernelspec": {
      "name": "python3",
      "display_name": "Python 3"
    },
    "language_info": {
      "name": "python"
    }
  },
  "cells": [
    {
      "cell_type": "markdown",
      "metadata": {
        "id": "view-in-github",
        "colab_type": "text"
      },
      "source": [
        "<a href=\"https://colab.research.google.com/github/sam02/tp547/blob/main/codigos/codigos_aula4/corrnormalex.ipynb\" target=\"_parent\"><img src=\"https://colab.research.google.com/assets/colab-badge.svg\" alt=\"Open In Colab\"/></a>"
      ]
    },
    {
      "cell_type": "code",
      "execution_count": null,
      "metadata": {
        "id": "shnF-uZuLrdw"
      },
      "outputs": [],
      "source": [
        "!pip install numpy\n"
      ]
    },
    {
      "cell_type": "code",
      "source": [
        "import numpy as np\n",
        "\n",
        "\n",
        "np.random.seed(10)\n",
        "\n",
        "X=np.random.normal(0,1,10)\n",
        "np.random.seed(117)\n",
        "Y=np.random.normal(0,1,10)\n",
        "\n",
        "C = np.corrcoef(X,Y)\n",
        "print(C)"
      ],
      "metadata": {
        "id": "JzWOpb8TLsMw"
      },
      "execution_count": null,
      "outputs": []
    }
  ]
}
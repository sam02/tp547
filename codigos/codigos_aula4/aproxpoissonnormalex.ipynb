{
  "nbformat": 4,
  "nbformat_minor": 0,
  "metadata": {
    "colab": {
      "provenance": [],
      "authorship_tag": "ABX9TyM8RQqjHJtvKVhdeuhsm3XD",
      "include_colab_link": true
    },
    "kernelspec": {
      "name": "python3",
      "display_name": "Python 3"
    },
    "language_info": {
      "name": "python"
    }
  },
  "cells": [
    {
      "cell_type": "markdown",
      "metadata": {
        "id": "view-in-github",
        "colab_type": "text"
      },
      "source": [
        "<a href=\"https://colab.research.google.com/github/sam02/tp547/blob/main/codigos/codigos_aula4/aproxpoissonnormalex.ipynb\" target=\"_parent\"><img src=\"https://colab.research.google.com/assets/colab-badge.svg\" alt=\"Open In Colab\"/></a>"
      ]
    },
    {
      "cell_type": "code",
      "execution_count": null,
      "metadata": {
        "colab": {
          "base_uri": "https://localhost:8080/"
        },
        "id": "W8jLH2YQIbx2",
        "outputId": "72c891b4-3057-4a8e-e919-d1c81ef290ea"
      },
      "outputs": [
        {
          "output_type": "stream",
          "name": "stdout",
          "text": [
            "Requirement already satisfied: numpy in /usr/local/lib/python3.10/dist-packages (1.25.2)\n"
          ]
        }
      ],
      "source": [
        "!pip install numpy"
      ]
    },
    {
      "cell_type": "code",
      "source": [
        "import numpy as np\n",
        "\n",
        "\n",
        "n=100000\n",
        "xfunction=np.array([])\n",
        "mu=50;\n",
        "sigma=np.sqrt(50);\n",
        "value1=34.5;\n",
        "value2=35.5;\n",
        "\n",
        "count=0;\n",
        "\n",
        "for i in range(n):\n",
        "    x1=np.random.uniform(0,1)\n",
        "    xexp=-np.log(x1);\n",
        "    x2=np.random.uniform(0,1)\n",
        "\n",
        "    while (x2 >=(np.exp(-pow((xexp-1),2)/2))):\n",
        "        x1=np.random.uniform(0,1)\n",
        "        xexp=-np.log(x1);\n",
        "        x2=np.random.uniform(0,1)\n",
        "    x3=np.random.uniform(0,1)\n",
        "    if x3<=0.5:\n",
        "        xfunction = np.append(xfunction, xexp)\n",
        "    else:\n",
        "        xfunction = np.append(xfunction, -xexp)\n",
        "\n",
        "normvalue=sigma*xfunction+mu;\n",
        "\n",
        "print(normvalue)\n",
        "\n",
        "for uninormal in normvalue:\n",
        "    if value1<=uninormal<=value2:\n",
        "        count=count+1\n",
        "prob=count/n\n",
        "print(\"a probabilidade e\",prob)\n",
        "\n",
        "\n",
        "\n"
      ],
      "metadata": {
        "colab": {
          "base_uri": "https://localhost:8080/"
        },
        "id": "vRoh8vUlIeHw",
        "outputId": "525072d7-499c-48a8-c8c0-00e25d3ad111"
      },
      "execution_count": null,
      "outputs": [
        {
          "output_type": "stream",
          "name": "stdout",
          "text": [
            "[41.58330683 50.93016519 47.27563586 ... 49.16546455 47.25554157\n",
            " 46.50211527]\n",
            "a probabilidade e 0.00623\n"
          ]
        }
      ]
    }
  ]
}
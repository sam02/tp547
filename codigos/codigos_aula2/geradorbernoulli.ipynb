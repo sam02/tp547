{
  "nbformat": 4,
  "nbformat_minor": 0,
  "metadata": {
    "colab": {
      "provenance": [],
      "authorship_tag": "ABX9TyMMp1CKtuJhFtjamoi7g5SN",
      "include_colab_link": true
    },
    "kernelspec": {
      "name": "python3",
      "display_name": "Python 3"
    },
    "language_info": {
      "name": "python"
    }
  },
  "cells": [
    {
      "cell_type": "markdown",
      "metadata": {
        "id": "view-in-github",
        "colab_type": "text"
      },
      "source": [
        "<a href=\"https://colab.research.google.com/github/sam02/tp547/blob/main/codigos/codigos_aula2/geradorbernoulli.ipynb\" target=\"_parent\"><img src=\"https://colab.research.google.com/assets/colab-badge.svg\" alt=\"Open In Colab\"/></a>"
      ]
    },
    {
      "cell_type": "code",
      "source": [
        "!pip install numpy\n",
        "!pip install matplotlib"
      ],
      "metadata": {
        "id": "Jrxt7Y-V3sqC"
      },
      "execution_count": null,
      "outputs": []
    },
    {
      "cell_type": "code",
      "execution_count": null,
      "metadata": {
        "id": "qcOR-pGX3qcx"
      },
      "outputs": [],
      "source": [
        "import numpy as np\n",
        "import matplotlib.pyplot as plt\n",
        "\n",
        "x=1\n",
        "x1=np.array([x])\n",
        "av=np.array([])\n",
        "n=10000\n",
        "a=pow(7,5)\n",
        "m=pow(2,31)-1\n",
        "for i in range(n):\n",
        "    x=(a*x)%m\n",
        "    x1=np.append(x1,x)\n",
        "x1=x1/m\n",
        "for ix in x1:\n",
        "    if ix >= 0.5:\n",
        "        a1=1\n",
        "        av = np.append(av, a1)\n",
        "    else:\n",
        "        a1=0\n",
        "        av=np.append(av,a1)\n",
        "print(x1)\n",
        "print(np.mean(x1))\n",
        "print(av)\n",
        "ind=np.arange(n+1)\n",
        "plt.bar(ind, av)\n",
        "plt.show()"
      ]
    }
  ]
}
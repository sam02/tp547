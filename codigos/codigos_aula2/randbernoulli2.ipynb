{
  "nbformat": 4,
  "nbformat_minor": 0,
  "metadata": {
    "colab": {
      "provenance": [],
      "authorship_tag": "ABX9TyO5A42VvjqzL2O/9rUwepoL",
      "include_colab_link": true
    },
    "kernelspec": {
      "name": "python3",
      "display_name": "Python 3"
    },
    "language_info": {
      "name": "python"
    }
  },
  "cells": [
    {
      "cell_type": "markdown",
      "metadata": {
        "id": "view-in-github",
        "colab_type": "text"
      },
      "source": [
        "<a href=\"https://colab.research.google.com/github/sam02/tp547/blob/main/codigos/codigos_aula2/randbernoulli2.ipynb\" target=\"_parent\"><img src=\"https://colab.research.google.com/assets/colab-badge.svg\" alt=\"Open In Colab\"/></a>"
      ]
    },
    {
      "cell_type": "code",
      "source": [
        "!pip install numpy\n",
        "!pip install matplotlib"
      ],
      "metadata": {
        "id": "K6NvYhAn4Nd4"
      },
      "execution_count": null,
      "outputs": []
    },
    {
      "cell_type": "code",
      "execution_count": null,
      "metadata": {
        "id": "orsMbNm64MJC"
      },
      "outputs": [],
      "source": [
        "import numpy as np\n",
        "import matplotlib.pyplot as plt\n",
        "p=0.5\n",
        "av=np.array([])\n",
        "x=np.random.uniform(0,1,100000)\n",
        "for ix in x:\n",
        "    if ix >= p:\n",
        "        a1=1\n",
        "        av = np.append(av, a1)\n",
        "    else:\n",
        "        a1=0\n",
        "        av=np.append(av,a1)\n",
        "print(x)\n",
        "print(av)\n",
        "plt.hist(x,bins=20)\n",
        "plt.show()"
      ]
    }
  ]
}
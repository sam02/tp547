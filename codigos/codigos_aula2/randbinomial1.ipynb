{
  "nbformat": 4,
  "nbformat_minor": 0,
  "metadata": {
    "colab": {
      "provenance": [],
      "authorship_tag": "ABX9TyN5O1P8Eb+C0lzdZZHc0tmc",
      "include_colab_link": true
    },
    "kernelspec": {
      "name": "python3",
      "display_name": "Python 3"
    },
    "language_info": {
      "name": "python"
    }
  },
  "cells": [
    {
      "cell_type": "markdown",
      "metadata": {
        "id": "view-in-github",
        "colab_type": "text"
      },
      "source": [
        "<a href=\"https://colab.research.google.com/github/sam02/tp547/blob/main/codigos/codigos_aula2/randbinomial1.ipynb\" target=\"_parent\"><img src=\"https://colab.research.google.com/assets/colab-badge.svg\" alt=\"Open In Colab\"/></a>"
      ]
    },
    {
      "cell_type": "code",
      "execution_count": null,
      "metadata": {
        "id": "jSNnkuNZfgc1"
      },
      "outputs": [],
      "source": [
        "import numpy as np\n",
        "import matplotlib.pyplot as plt\n",
        "\n",
        "q=0.8#Probabilidade de acerto\n",
        "n=4 #Número de tentativas\n",
        "value=2\n",
        "N=100000#Número de amostras\n",
        "c = q/(1-q)\n",
        "av=np.array([])\n",
        "count=0\n",
        "x=np.random.uniform(0,1,N)\n",
        "for ix in x:\n",
        "    i = 0\n",
        "    pr = pow((1 - q),n)\n",
        "    F = pr\n",
        "    while ix>=F:\n",
        "        pr = (c * (n - i) / (i + 1))* pr;\n",
        "        F = F + pr;\n",
        "        i = i + 1;\n",
        "    a1=i\n",
        "    av=np.append(av,a1)\n",
        "\n",
        "print(av)\n",
        "\n",
        "for binvalue in av:\n",
        "    if binvalue==value:\n",
        "        count=count+1\n",
        "prob=count/N\n",
        "print(\"a probabilidade e\",prob)"
      ]
    }
  ]
}
{
  "nbformat": 4,
  "nbformat_minor": 0,
  "metadata": {
    "colab": {
      "provenance": [],
      "authorship_tag": "ABX9TyNr85W8SwVd2qoTBtbgJcdq",
      "include_colab_link": true
    },
    "kernelspec": {
      "name": "python3",
      "display_name": "Python 3"
    },
    "language_info": {
      "name": "python"
    }
  },
  "cells": [
    {
      "cell_type": "markdown",
      "metadata": {
        "id": "view-in-github",
        "colab_type": "text"
      },
      "source": [
        "<a href=\"https://colab.research.google.com/github/sam02/tp547/blob/main/codigos/codigos_aula2/randpoisson.ipynb\" target=\"_parent\"><img src=\"https://colab.research.google.com/assets/colab-badge.svg\" alt=\"Open In Colab\"/></a>"
      ]
    },
    {
      "cell_type": "code",
      "execution_count": null,
      "metadata": {
        "id": "UinCIGjWhQy3"
      },
      "outputs": [],
      "source": [
        "!pip install numpy"
      ]
    },
    {
      "cell_type": "code",
      "source": [
        "import numpy as np\n",
        "\n",
        "\n",
        "\n",
        "lambda1=5 #Número médio de requisições\n",
        "N=100 #Numero de amostras\n",
        "value=2\n",
        "count=0\n",
        "av=np.array([])\n",
        "x=np.random.uniform(0,1,N)\n",
        "for ix in x:\n",
        "    i = 0\n",
        "    pr = np.exp(-lambda1)\n",
        "    F=pr\n",
        "    while ix>=F:\n",
        "        pr=lambda1/(i+1)*pr\n",
        "        F = F + pr\n",
        "        i = i + 1;\n",
        "    a1=i\n",
        "    av=np.append(av,a1)\n",
        "\n",
        "print(av)"
      ],
      "metadata": {
        "id": "cVTRKAQChRyg"
      },
      "execution_count": null,
      "outputs": []
    }
  ]
}
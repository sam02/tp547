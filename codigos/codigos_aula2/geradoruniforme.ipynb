{
  "nbformat": 4,
  "nbformat_minor": 0,
  "metadata": {
    "colab": {
      "provenance": [],
      "authorship_tag": "ABX9TyMGs6gm2tk30QPTs52qjda+",
      "include_colab_link": true
    },
    "kernelspec": {
      "name": "python3",
      "display_name": "Python 3"
    },
    "language_info": {
      "name": "python"
    }
  },
  "cells": [
    {
      "cell_type": "markdown",
      "metadata": {
        "id": "view-in-github",
        "colab_type": "text"
      },
      "source": [
        "<a href=\"https://colab.research.google.com/github/sam02/tp547/blob/main/codigos/codigos_aula2/geradoruniforme.ipynb\" target=\"_parent\"><img src=\"https://colab.research.google.com/assets/colab-badge.svg\" alt=\"Open In Colab\"/></a>"
      ]
    },
    {
      "cell_type": "code",
      "source": [
        "!pip install numpy"
      ],
      "metadata": {
        "colab": {
          "base_uri": "https://localhost:8080/"
        },
        "id": "N_JnnkdEwRmJ",
        "outputId": "8385427f-c4e8-47c4-b9d1-ac440078e0c6"
      },
      "execution_count": null,
      "outputs": [
        {
          "output_type": "stream",
          "name": "stdout",
          "text": [
            "Requirement already satisfied: numpy in /usr/local/lib/python3.10/dist-packages (1.25.2)\n"
          ]
        }
      ]
    },
    {
      "cell_type": "code",
      "execution_count": null,
      "metadata": {
        "colab": {
          "base_uri": "https://localhost:8080/"
        },
        "id": "HUJKkzpCwOXn",
        "outputId": "b1138b04-d0a2-4362-bc49-01ed18680844"
      },
      "outputs": [
        {
          "output_type": "stream",
          "name": "stdout",
          "text": [
            "[4.65661288e-10 7.82636926e-06 1.31537788e-01 7.55605322e-01\n",
            " 4.58650132e-01 5.32767237e-01 2.18959186e-01 4.70446162e-02\n",
            " 6.78864717e-01 6.79296406e-01 9.34692896e-01 3.83502077e-01\n",
            " 5.19416372e-01 8.30965346e-01 3.45721105e-02 5.34616350e-02\n",
            " 5.29700193e-01 6.71149384e-01 7.69818621e-03 3.83415651e-01\n",
            " 6.68422375e-02 4.17485974e-01 6.86772712e-01 5.88976643e-01\n",
            " 9.30436495e-01 8.46166891e-01 5.26928778e-01 9.19648908e-02\n",
            " 6.53918962e-01 4.15999357e-01 7.01190594e-01 9.10320830e-01\n",
            " 7.62198040e-01 2.62452994e-01 4.74645137e-02 7.36081885e-01\n",
            " 3.28234226e-01 6.32638568e-01 7.56410486e-01 9.91037386e-01\n",
            " 3.65338671e-01 2.47038886e-01 9.82550286e-01 7.22660401e-01\n",
            " 7.53355835e-01 6.51518575e-01 7.26858829e-02 6.31634718e-01\n",
            " 8.84707129e-01 2.72709967e-01 4.36411406e-01 7.66494778e-01\n",
            " 4.77731765e-01 2.37774434e-01 2.74906840e-01 3.59264979e-01\n",
            " 1.66507200e-01 4.86517383e-01 8.97656287e-01 9.09208102e-01\n",
            " 6.05643275e-02 9.04653092e-01 5.04522895e-01 5.16291964e-01\n",
            " 3.19032941e-01 9.86642112e-01 4.93976685e-01 2.66144507e-01\n",
            " 9.07328949e-02 9.47764250e-01 7.37490752e-02 5.00707095e-01\n",
            " 3.84142148e-01 2.77081800e-01 9.13817442e-01 5.29747394e-01\n",
            " 4.64445825e-01 9.40979954e-01 5.00839837e-02 7.61514262e-01\n",
            " 7.70204547e-01 8.27817300e-01 1.25365376e-01 1.58677013e-02\n",
            " 6.88455301e-01 8.68247132e-01 6.29543418e-01 7.36224514e-01\n",
            " 7.25411998e-01 9.99457879e-01 8.88572214e-01 2.33194878e-01\n",
            " 3.06321831e-01 3.51015248e-01 5.13273702e-01 5.91113583e-01\n",
            " 8.45981560e-01 4.12080771e-01 8.41510639e-01 2.69317272e-01\n",
            " 4.15394616e-01]\n"
          ]
        }
      ],
      "source": [
        "import numpy as np\n",
        "xunimean=np.array([])\n",
        "for j in range(1,1000):\n",
        "    x=1\n",
        "    x1=np.array([x])\n",
        "    av=np.array([])\n",
        "    n=100\n",
        "    a=pow(7,5)\n",
        "    m=pow(2,31)-1\n",
        "    for i in range(n):\n",
        "        x=(a*x)%m\n",
        "        x1=np.append(x1,x)\n",
        "    x1=x1/m\n",
        "    xunimean=np.append(xunimean,np.mean(x1))\n",
        "print(x1)"
      ]
    }
  ]
}
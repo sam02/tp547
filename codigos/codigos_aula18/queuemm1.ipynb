{
  "nbformat": 4,
  "nbformat_minor": 0,
  "metadata": {
    "colab": {
      "provenance": [],
      "authorship_tag": "ABX9TyP3RlU0hTH2co6lip26Q4nN",
      "include_colab_link": true
    },
    "kernelspec": {
      "name": "python3",
      "display_name": "Python 3"
    },
    "language_info": {
      "name": "python"
    }
  },
  "cells": [
    {
      "cell_type": "markdown",
      "metadata": {
        "id": "view-in-github",
        "colab_type": "text"
      },
      "source": [
        "<a href=\"https://colab.research.google.com/github/sam02/tp547/blob/main/codigos/codigos_aula18/queuemm1.ipynb\" target=\"_parent\"><img src=\"https://colab.research.google.com/assets/colab-badge.svg\" alt=\"Open In Colab\"/></a>"
      ]
    },
    {
      "cell_type": "code",
      "source": [
        "!pip install numpy\n",
        "!pip install matplotlib"
      ],
      "metadata": {
        "id": "EpHnMWG7JgvI"
      },
      "execution_count": null,
      "outputs": []
    },
    {
      "cell_type": "code",
      "execution_count": null,
      "metadata": {
        "id": "q7OinFtJJexC"
      },
      "outputs": [],
      "source": [
        "import numpy as np\n",
        "import matplotlib.pyplot as plt\n",
        "t = 0 #tempo inicial\n",
        "lq = 0 #numero de elementos na fila\n",
        "ls = 1 #numero de elementos no servidor\n",
        "k1 = 0 #variavel auxiliar\n",
        "k2 = 0 #variavel auxiliar\n",
        "k = 0 #numero de partidas\n",
        "lambda1=3 #taxa media de chegada\n",
        "mu1=12 #taxa media de partida\n",
        "chegadas = np.random.exponential(1/lambda1,100000) #vetor de chegadas\n",
        "\n",
        "partidas = np.random.exponential(1/mu1,100000) #vetor de partidas\n",
        "tc = [0] #tempo de chegadas\n",
        "tp = [] #tempo de partidas\n",
        "ts = [] #tempo no sistema\n",
        "\n",
        "ta = t + chegadas[k1] #proxima chegada\n",
        "td = t + partidas[k2] #proxima partida\n",
        "t = np.minimum(ta, td) #proximo tempo de execucao\n",
        "\n",
        "while (t < 5000): #tempo limite de simulacao\n",
        "\n",
        "    if ta<td: #evento de chegada\n",
        "        k1 = k1 + 1\n",
        "        ta = [] #apaga o tempo de chegada atual\n",
        "        if ls == 1: #servidor ocupado\n",
        "            lq = lq + 1 #aumenta a fila\n",
        "            ta = t + chegadas[k1] #gera nova chegada\n",
        "            tc = np.append(tc, t) #aramazena tempo atual de chegada\n",
        "\n",
        "        else: #servidor desocupado\n",
        "            ls = 1 #ocupa o servidor\n",
        "            k2 = k2 + 1\n",
        "            td = t + partidas[k2] #gera nova partida\n",
        "            ta = t + chegadas[k1] #gera nova chegada\n",
        "            tc = np.append(tc, t) #aramazena tempo atual de chegada\n",
        "\n",
        "\n",
        "    elif ta == td: #chegada e partida simultanea\n",
        "\n",
        "        tc = np.append(tc, t) #armazena o tempo atual de chegada\n",
        "        tp = np.append(tp, t) #armazena o tempo atual de partida\n",
        "\n",
        "        k = k + 1 #incrementa a partida\n",
        "\n",
        "        ts = np.append(ts,(tp[k-1] - tc[k-1])) #calcula o tempo no sistema\n",
        "\n",
        "        ta = [] #apaga os valores atuais de chegada e partida\n",
        "        td = []\n",
        "        k1 = k1 + 1\n",
        "        k2 = k2 + 1\n",
        "        td = t + partidas[k2] #calcula a proxima partida\n",
        "        ta = t + chegadas[k1] #calcula a proxima chegada\n",
        "\n",
        "\n",
        "\n",
        "    else: #evento de partida\n",
        "        td = [] #apaga o tempo de partida\n",
        "\n",
        "        k = k + 1 #incrementa o numero de partidas\n",
        "\n",
        "        if lq > 0:#existem pacotes na fila\n",
        "            tp = np.append(tp, t) #armazeno o tempo da partida\n",
        "            ts = np.append(ts, (tp[k - 1] - tc[k - 1])) #calculo o tempo no sistema\n",
        "            lq = lq - 1 #diminuo a fila em 1\n",
        "            k2 = k2 + 1\n",
        "            td = t + partidas[k2]#calculo a proxima partida\n",
        "\n",
        "        else: #nao ha pacotes na fila\n",
        "            tp = np.append(tp, t)#armazeno o tempo da partida\n",
        "            ts = np.append(ts, (tp[k - 1] - tc[k - 1])) #calculo o tempo no sistema\n",
        "\n",
        "            td = np.infty #coloco um valor muito grande para a proxima partida\n",
        "            ls = 0 #esvazio o servidor\n",
        "\n",
        "\n",
        "    t = np.minimum(ta, td) #calculo o tempo minimo entre chegada e partida\n",
        "\n",
        "tw=np.mean(ts)-1/mu1\n",
        "eq=lambda1*np.mean(ts)\n",
        "ew=lambda1*tw\n",
        "rho=lambda1/mu1\n",
        "print(\"fator de utilizacao rho\")\n",
        "print(rho)\n",
        "print(\"tempo no sistema\")\n",
        "print(np.mean(ts))\n",
        "print(\"tempo na fila\")\n",
        "print(tw)\n",
        "print(\"numero medio de pacotes no sistema\")\n",
        "print(eq)\n",
        "print(\"numero medio de pacotes na fila\")\n",
        "print(ew)"
      ]
    }
  ]
}
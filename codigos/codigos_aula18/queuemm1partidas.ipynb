{
  "nbformat": 4,
  "nbformat_minor": 0,
  "metadata": {
    "colab": {
      "provenance": [],
      "authorship_tag": "ABX9TyMWTYt0nWGVB/XOZLyJaGOu",
      "include_colab_link": true
    },
    "kernelspec": {
      "name": "python3",
      "display_name": "Python 3"
    },
    "language_info": {
      "name": "python"
    }
  },
  "cells": [
    {
      "cell_type": "markdown",
      "metadata": {
        "id": "view-in-github",
        "colab_type": "text"
      },
      "source": [
        "<a href=\"https://colab.research.google.com/github/sam02/tp547/blob/main/codigos/codigos_aula18/queuemm1partidas.ipynb\" target=\"_parent\"><img src=\"https://colab.research.google.com/assets/colab-badge.svg\" alt=\"Open In Colab\"/></a>"
      ]
    },
    {
      "cell_type": "code",
      "source": [
        "!pip install numpy\n",
        "!pip install matplotlib"
      ],
      "metadata": {
        "id": "N1CgUdDVKBay"
      },
      "execution_count": null,
      "outputs": []
    },
    {
      "cell_type": "code",
      "execution_count": null,
      "metadata": {
        "id": "aRdvVBIEJ-vP"
      },
      "outputs": [],
      "source": [
        "import numpy as np\n",
        "import matplotlib.pyplot as plt\n",
        "t = 0\n",
        "lq = 0\n",
        "ls = 1\n",
        "k1 = 0\n",
        "k2 = 0\n",
        "k = 0\n",
        "lambda1=400\n",
        "mu1=6666.7\n",
        "chegadas = np.random.exponential(1/lambda1,10000000)\n",
        "\n",
        "partidas = np.random.exponential(1/mu1,10000000)\n",
        "tc = [0]\n",
        "tp = []\n",
        "ts = []\n",
        "\n",
        "ta = t + chegadas[k1]\n",
        "td = t + partidas[k2]\n",
        "t = np.minimum(ta, td)\n",
        "\n",
        "while (k < 10000): #limitado ao numero de partidas\n",
        "\n",
        "    if ta<td:\n",
        "        k1 = k1 + 1\n",
        "        ta = []\n",
        "        if ls == 1:\n",
        "            lq = lq + 1\n",
        "            ta = t + chegadas[k1]\n",
        "            tc = np.append(tc, t)\n",
        "\n",
        "        else:\n",
        "            ls = 1\n",
        "            k2 = k2 + 1\n",
        "            td = t + partidas[k2]\n",
        "            ta = t + chegadas[k1]\n",
        "            tc = np.append(tc, t)\n",
        "\n",
        "\n",
        "    elif ta == td:\n",
        "\n",
        "        tc = np.append(tc, t)\n",
        "        tp = np.append(tp, t)\n",
        "\n",
        "        k = k + 1\n",
        "\n",
        "        ts = np.append(ts,(tp[k-1] - tc[k-1]))\n",
        "\n",
        "        ta = []\n",
        "        td = []\n",
        "        k1 = k1 + 1\n",
        "        k2 = k2 + 1\n",
        "        td = t + partidas[k2]\n",
        "        ta = t + chegadas[k1]\n",
        "\n",
        "\n",
        "\n",
        "    else:\n",
        "        td = []\n",
        "\n",
        "        k = k + 1\n",
        "\n",
        "        if lq > 0:\n",
        "            tp = np.append(tp, t)\n",
        "            ts = np.append(ts, (tp[k - 1] - tc[k - 1]))\n",
        "            lq = lq - 1\n",
        "            k2 = k2 + 1\n",
        "            td = t + partidas[k2]\n",
        "\n",
        "        else:\n",
        "            tp = np.append(tp, t)\n",
        "            ts = np.append(ts, (tp[k - 1] - tc[k - 1]))\n",
        "\n",
        "            td = np.infty\n",
        "            ls = 0\n",
        "\n",
        "\n",
        "    t = np.minimum(ta, td)\n",
        "\n",
        "\n",
        "print(np.mean(ts))"
      ]
    }
  ]
}
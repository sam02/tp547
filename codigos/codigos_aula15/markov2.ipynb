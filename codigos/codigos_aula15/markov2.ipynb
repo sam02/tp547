{
  "nbformat": 4,
  "nbformat_minor": 0,
  "metadata": {
    "colab": {
      "provenance": [],
      "authorship_tag": "ABX9TyOVkrfl8YPmyafjHyNXp0iu",
      "include_colab_link": true
    },
    "kernelspec": {
      "name": "python3",
      "display_name": "Python 3"
    },
    "language_info": {
      "name": "python"
    }
  },
  "cells": [
    {
      "cell_type": "markdown",
      "metadata": {
        "id": "view-in-github",
        "colab_type": "text"
      },
      "source": [
        "<a href=\"https://colab.research.google.com/github/sam02/tp547/blob/main/codigos/codigos_aula15/markov2.ipynb\" target=\"_parent\"><img src=\"https://colab.research.google.com/assets/colab-badge.svg\" alt=\"Open In Colab\"/></a>"
      ]
    },
    {
      "cell_type": "code",
      "source": [
        "!pip install numpy\n",
        "!pip install matplotlib"
      ],
      "metadata": {
        "id": "0V9RLOVYP-TP"
      },
      "execution_count": null,
      "outputs": []
    },
    {
      "cell_type": "code",
      "execution_count": null,
      "metadata": {
        "id": "x4H4XQeqP5tk"
      },
      "outputs": [],
      "source": [
        "import numpy as np\n",
        "import matplotlib.pyplot as plt\n",
        "\n",
        "n = 100000\n",
        "chain2 = np.zeros(n, int)\n",
        "for j in np.arange(0, n, 1):\n",
        "    probabilidades_transicao = [[0.8,0.1,0.1],[0.2,0.6,0.2],[0.25,0.25,0.5]]\n",
        "\n",
        "    valor_inicial = 0#0 pesq 1 tq 2 tc\n",
        "    chain_length = 10\n",
        "    chain = np.zeros(chain_length, int)\n",
        "    chain[0] = valor_inicial\n",
        "\n",
        "    for i in np.arange(1, chain_length, 1):\n",
        "        Linha_atual = probabilidades_transicao[chain[i - 1]]\n",
        "        acumulada = np.cumsum(Linha_atual)\n",
        "        r = np.random.uniform(0, 1)\n",
        "        chain[i] = np.argmax(acumulada > r)\n",
        "\n",
        "    chain2[j] = chain[2]\n",
        "\n",
        "prob1 = np.sum(chain2 == 0) / n\n",
        "prob2 = np.sum(chain2 == 1) / n\n",
        "prob3 = np.sum(chain2 == 2) / n\n",
        "print(prob1)\n",
        "print(prob2)\n",
        "print(prob3)\n"
      ]
    }
  ]
}
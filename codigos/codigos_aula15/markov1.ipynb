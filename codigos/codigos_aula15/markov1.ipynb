{
  "nbformat": 4,
  "nbformat_minor": 0,
  "metadata": {
    "colab": {
      "provenance": [],
      "authorship_tag": "ABX9TyOxr9R18iKi4KoZI9JoQZH5",
      "include_colab_link": true
    },
    "kernelspec": {
      "name": "python3",
      "display_name": "Python 3"
    },
    "language_info": {
      "name": "python"
    }
  },
  "cells": [
    {
      "cell_type": "markdown",
      "metadata": {
        "id": "view-in-github",
        "colab_type": "text"
      },
      "source": [
        "<a href=\"https://colab.research.google.com/github/sam02/tp547/blob/main/codigos/codigos_aula15/markov1.ipynb\" target=\"_parent\"><img src=\"https://colab.research.google.com/assets/colab-badge.svg\" alt=\"Open In Colab\"/></a>"
      ]
    },
    {
      "cell_type": "code",
      "source": [
        "!pip install numpy\n",
        "!pip install matplotlib"
      ],
      "metadata": {
        "id": "vgrwKSkXPkDP"
      },
      "execution_count": null,
      "outputs": []
    },
    {
      "cell_type": "code",
      "execution_count": null,
      "metadata": {
        "id": "kB0EcESHPXys"
      },
      "outputs": [],
      "source": [
        "import numpy as np\n",
        "import matplotlib.pyplot as plt\n",
        "\n",
        "n=100000 #numero de simulacoes\n",
        "x0=[0.40,0.60]# vetor de probabilidade inicial\n",
        "probabilidades_transicao = [[0.30, 0.70],[0.50, 0.50]] # matriz de transicao de um passo\n",
        "chain2 = np.zeros(n,int) #vetor para armazenar os estados no passo escolhido, passo 0 estado inicial, passo 1 uma transicao, ...\n",
        "passo=3\n",
        "for j in np.arange(0,n,1):\n",
        "\n",
        "    r1 = np.random.uniform(0,1) #geracao de varivel uniforme para escolha do vallor inicial\n",
        "    acumulada = np.cumsum(x0) #gera um vetor [x1,x1+x2,...,1]\n",
        "    valor_inicial = np.argmax(acumulada>r1) #aplica o método de geracao baseado na CDF\n",
        "    chain_length = 20 #numero de transicoes na cadeia, tem que ser maior que o passo escolhido.\n",
        "    chain = np.zeros(chain_length,int) #vetor que vai armazenar todas as transicoes feitas na cadeia\n",
        "    chain[0]=valor_inicial\n",
        "\n",
        "    for i in np.arange(1,chain_length,1):\n",
        "        Linha_atual = probabilidades_transicao[chain[i-1]]#pega a linha referente ao estado atual\n",
        "        acumulada = np.cumsum(Linha_atual)\n",
        "        r = np.random.uniform(0,1)\n",
        "        chain[i] = np.argmax(acumulada>r)#aplica o método de geracao baseado na CDF\n",
        "\n",
        "    chain2[j] =chain[passo]#armazena o estado no passo em chain2\n",
        "\n",
        "#calculo de estatisticas por monte carlo\n",
        "prob1=np.sum(chain2==0)/n\n",
        "prob2=np.sum(chain2==1)/n\n",
        "print(prob1)\n",
        "print(prob2)\n",
        ""
      ]
    },
    {
      "cell_type": "code",
      "source": [],
      "metadata": {
        "id": "mcZKTA-MPjUw"
      },
      "execution_count": null,
      "outputs": []
    }
  ]
}
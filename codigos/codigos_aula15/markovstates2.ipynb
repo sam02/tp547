{
  "nbformat": 4,
  "nbformat_minor": 0,
  "metadata": {
    "colab": {
      "provenance": [],
      "authorship_tag": "ABX9TyNDHOSIx3YPlA7YURm1nS+C",
      "include_colab_link": true
    },
    "kernelspec": {
      "name": "python3",
      "display_name": "Python 3"
    },
    "language_info": {
      "name": "python"
    }
  },
  "cells": [
    {
      "cell_type": "markdown",
      "metadata": {
        "id": "view-in-github",
        "colab_type": "text"
      },
      "source": [
        "<a href=\"https://colab.research.google.com/github/sam02/tp547/blob/main/codigos/codigos_aula15/markovstates2.ipynb\" target=\"_parent\"><img src=\"https://colab.research.google.com/assets/colab-badge.svg\" alt=\"Open In Colab\"/></a>"
      ]
    },
    {
      "cell_type": "code",
      "source": [
        "!pip install numpy\n",
        "!pip install matplotlib\n",
        "!pip install scipy\n",
        "!pip install numpy.linalg"
      ],
      "metadata": {
        "id": "u3eYv7g9QbbG"
      },
      "execution_count": null,
      "outputs": []
    },
    {
      "cell_type": "code",
      "execution_count": null,
      "metadata": {
        "id": "Xe9FH-ryQaTU"
      },
      "outputs": [],
      "source": [
        "import numpy as np\n",
        "import matplotlib.pyplot as plt\n",
        "from numpy.linalg import matrix_power\n",
        "n=np.arange(1,101)\n",
        "x1=np.zeros((100))\n",
        "x2=np.zeros((100))\n",
        "\n",
        "for i in n:\n",
        "\t\tx0=[0.05,0.95]\n",
        "\t\txt=[[0.98,0.02],[0.05,0.95]]\n",
        "\t\txn=np.dot(x0,matrix_power(xt,i))\n",
        "\n",
        "\n",
        "\t\tx1[i-1]=xn[0]\n",
        "\t\tx2[i-1]=xn[1]\n",
        "\n",
        "x1=np.append(x0[0],x1)\n",
        "x2=np.append(x0[1],x2)\n",
        "i=np.arange(0,101)\n",
        "plt.figure(1)\n",
        "plt.plot(i,x1)\n",
        "\n",
        "plt.plot(i,x2)\n",
        "plt.xlabel('passos')\n",
        "plt.ylabel('probabilidade')\n",
        "plt.grid()\n",
        "plt.show()"
      ]
    }
  ]
}
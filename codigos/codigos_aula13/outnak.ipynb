{
  "nbformat": 4,
  "nbformat_minor": 0,
  "metadata": {
    "colab": {
      "provenance": [],
      "authorship_tag": "ABX9TyNotzZNx4bYlXpAaEjFK0Ht",
      "include_colab_link": true
    },
    "kernelspec": {
      "name": "python3",
      "display_name": "Python 3"
    },
    "language_info": {
      "name": "python"
    }
  },
  "cells": [
    {
      "cell_type": "markdown",
      "metadata": {
        "id": "view-in-github",
        "colab_type": "text"
      },
      "source": [
        "<a href=\"https://colab.research.google.com/github/sam02/tp547/blob/main/codigos/codigos_aula13/outnak.ipynb\" target=\"_parent\"><img src=\"https://colab.research.google.com/assets/colab-badge.svg\" alt=\"Open In Colab\"/></a>"
      ]
    },
    {
      "cell_type": "code",
      "source": [
        "!pip install scipy\n",
        "!pip install numpy\n",
        "!pip install matplotlib"
      ],
      "metadata": {
        "id": "rgOQFpRM6WBr"
      },
      "execution_count": null,
      "outputs": []
    },
    {
      "cell_type": "code",
      "execution_count": null,
      "metadata": {
        "id": "PFKeS1W96UJL"
      },
      "outputs": [],
      "source": [
        "import numpy as np\n",
        "import matplotlib.pyplot as plt\n",
        "from scipy.stats import nakagami\n",
        "\n",
        "N=100000\n",
        "d=1\n",
        "alpha1=4\n",
        "media=d**(-alpha1)\n",
        "lambda1=1/media\n",
        "\n",
        "\n",
        "R=3\n",
        "count=0\n",
        "i=0\n",
        "j=0\n",
        "OP1=[]\n",
        "OP2=[]\n",
        "OP4=[]\n",
        "N0=1\n",
        "for j in np.arange(0,21,1):\n",
        "    count=0\n",
        "    plin=10**(j/10)\n",
        "    r =np.sqrt(media)*nakagami.rvs(1, size=N)\n",
        "    r2 = np.sqrt(media) * nakagami.rvs(2, size=N)\n",
        "    r4 = np.sqrt(media) * nakagami.rvs(4, size=N)\n",
        "\n",
        "    Prob1 = np.sum(np.log2(1 + (r**2 * plin / N0)) < R) / N\n",
        "    Prob2 = np.sum(np.log2(1 + (r2 ** 2 * plin / N0)) < R) / N\n",
        "    Prob4 = np.sum(np.log2(1 + (r4 ** 2 * plin / N0)) < R) / N\n",
        "    OP1=np.append(OP1,Prob1)\n",
        "    OP2 = np.append(OP2, Prob2)\n",
        "    OP4 = np.append(OP4, Prob4)\n",
        "\n",
        "\n",
        "\n",
        "Pdb=np.arange(0,21,1)\n",
        "plt.semilogy(Pdb,OP1)\n",
        "plt.semilogy(Pdb,OP2,'rx--')\n",
        "plt.semilogy(Pdb,OP4,'go-.')\n",
        "plt.grid()\n",
        "plt.axis([0,20,1e-3,1])\n",
        "plt.xlabel('P(dB)')\n",
        "plt.ylabel('Outage probability')\n",
        "plt.figlegend(['DIRECT m=1','DIRECT m=2','DIRECT m=4'])\n",
        "plt.show()"
      ]
    }
  ]
}
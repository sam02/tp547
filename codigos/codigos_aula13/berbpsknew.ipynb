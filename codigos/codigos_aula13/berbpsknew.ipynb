{
  "nbformat": 4,
  "nbformat_minor": 0,
  "metadata": {
    "colab": {
      "provenance": [],
      "authorship_tag": "ABX9TyPKLUH1ihAv3mmiDRcjYEdP",
      "include_colab_link": true
    },
    "kernelspec": {
      "name": "python3",
      "display_name": "Python 3"
    },
    "language_info": {
      "name": "python"
    }
  },
  "cells": [
    {
      "cell_type": "markdown",
      "metadata": {
        "id": "view-in-github",
        "colab_type": "text"
      },
      "source": [
        "<a href=\"https://colab.research.google.com/github/sam02/tp547/blob/main/codigos/codigos_aula13%20/berbpsknew.ipynb\" target=\"_parent\"><img src=\"https://colab.research.google.com/assets/colab-badge.svg\" alt=\"Open In Colab\"/></a>"
      ]
    },
    {
      "cell_type": "code",
      "source": [
        "!pip install scipy\n",
        "!pip install numpy\n",
        "!pip install matplotlib"
      ],
      "metadata": {
        "id": "wMok0UZ17HtP"
      },
      "execution_count": null,
      "outputs": []
    },
    {
      "cell_type": "code",
      "execution_count": null,
      "metadata": {
        "id": "aB42TNQ07CIa"
      },
      "outputs": [],
      "source": [
        "\n",
        "import numpy as np\n",
        "import matplotlib.pyplot as plt\n",
        "from scipy import special\n",
        "\n",
        "N = 10**6 # number of bits or symbols\n",
        "\n",
        "simber=[]\n",
        "# Transmitter\n",
        "ip = np.random.uniform(0,1,N)>0.5; # generating 0,1 with equal probability\n",
        "\n",
        "s = 2*ip-1; # BPSK modulation 0 -> -1; 1 -> 1\n",
        "\n",
        " # white gaussian noise, 0dB variance\n",
        "Eb_N0_dB = np.arange(-3,10,1); # multiple Eb/N0 values\n",
        "\n",
        "for ii in Eb_N0_dB:\n",
        "   # Noise addition\n",
        "   n = 1 / np.sqrt(2) * (np.random.normal(0, 1, N) + np.random.normal(0, 1, N) * 1j);\n",
        "   y = s + 10**(-ii/20)*n; # additive white gaussian noise\n",
        "\n",
        "   # receiver - hard decision decoding\n",
        "   ipHat = np.real(y)>0;\n",
        "   ber = np.sum(ip !=ipHat)/N; # simulated ber\n",
        "   simber=np.append(simber,ber)\n",
        "\n",
        "theoryBer = 0.5*special.erfc(np.sqrt(10.**(Eb_N0_dB/10))); # theoretical ber\n",
        "\n",
        "\n",
        "plt.semilogy(Eb_N0_dB,theoryBer,'b.-');\n",
        "plt.semilogy(Eb_N0_dB,simber,'mx-');\n",
        "plt.axis([-3, 10, 10**(-5), 0.5])\n",
        "plt.grid()\n",
        "plt.figlegend(['theory', 'simulation']);\n",
        "plt.xlabel('Eb/No, dB');\n",
        "plt.ylabel('Bit Error Rate');\n",
        "plt.show()\n"
      ]
    }
  ]
}
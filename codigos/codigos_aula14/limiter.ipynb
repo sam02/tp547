{
  "nbformat": 4,
  "nbformat_minor": 0,
  "metadata": {
    "colab": {
      "provenance": [],
      "authorship_tag": "ABX9TyPlkOlb2fOEjn3cb5ZFoyl/",
      "include_colab_link": true
    },
    "kernelspec": {
      "name": "python3",
      "display_name": "Python 3"
    },
    "language_info": {
      "name": "python"
    }
  },
  "cells": [
    {
      "cell_type": "markdown",
      "metadata": {
        "id": "view-in-github",
        "colab_type": "text"
      },
      "source": [
        "<a href=\"https://colab.research.google.com/github/sam02/tp547/blob/main/codigos/codigos_aula14/limiter.ipynb\" target=\"_parent\"><img src=\"https://colab.research.google.com/assets/colab-badge.svg\" alt=\"Open In Colab\"/></a>"
      ]
    },
    {
      "cell_type": "code",
      "source": [
        "!pip install numpy\n",
        "!pip install matplotlib"
      ],
      "metadata": {
        "id": "uWaKJsmRPIkY"
      },
      "execution_count": null,
      "outputs": []
    },
    {
      "cell_type": "code",
      "execution_count": null,
      "metadata": {
        "id": "cHlBuDr4PEqe"
      },
      "outputs": [],
      "source": [
        "import numpy as np\n",
        "import matplotlib.pyplot as plt\n",
        "\n",
        "x = np.arange(-10,10,0.1); # input voltage vector\n",
        "M = 1; # output limiting value\n",
        "m = 1; # input limiting value\n",
        "s = 100; # vector of shape factors\n",
        "\n",
        "y=[]\n",
        "\n",
        "for xx in x:\n",
        "\n",
        "    num = M*np.sign(xx);\n",
        "\n",
        "    xxx=(m/np.abs(xx))**s;\n",
        "    den = (1+xxx)**(1/s);\n",
        "    y=np.append(y,num/den) ;\n",
        "\n",
        "\n",
        "\n",
        "plt.plot(x,y,'k-');\n",
        "plt.grid\n",
        "plt.xlabel(\"Input Voltage\")\n",
        "plt.ylabel(\"Output Voltage\")\n",
        "plt.show()\n",
        "# End of script file."
      ]
    }
  ]
}
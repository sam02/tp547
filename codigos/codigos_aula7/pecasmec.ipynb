{
  "nbformat": 4,
  "nbformat_minor": 0,
  "metadata": {
    "colab": {
      "provenance": []
    },
    "kernelspec": {
      "name": "python3",
      "display_name": "Python 3"
    },
    "language_info": {
      "name": "python"
    }
  },
  "cells": [
    {
      "cell_type": "code",
      "execution_count": null,
      "metadata": {
        "id": "b6hN5dhAGUNS"
      },
      "outputs": [],
      "source": [
        "!pip install scipy\n",
        "!pip install numpy"
      ]
    },
    {
      "cell_type": "code",
      "source": [
        "import numpy as np\n",
        "import scipy.stats as sci\n",
        "N=11\n",
        "alpha=0.05\n",
        "pec=np.array([98,97,102,100,98,101,102,105,95,102,100])\n",
        "pecmean=np.mean(pec)\n",
        "print(\"A média maostral é \", pecmean)\n",
        "var1=sum((pec-pecmean)**2)/(N-1)\n",
        "print(\"A variância amostral é \", var1)\n",
        "\n",
        "limiteinf=sci.chi2.ppf(1-alpha/2, N-1)\n",
        "limitesup=sci.chi2.ppf(alpha/2, N-1)\n",
        "\n",
        "CI95_lower=(N-1)*var1/limiteinf\n",
        "CI95_upper=(N-1)*var1/limitesup\n",
        "print(\"O valor do intervalo inferior  e\",CI95_lower)\n",
        "print(\"O valor do intervalo superior  e\",CI95_upper)"
      ],
      "metadata": {
        "id": "ye7SRaM3GVAu"
      },
      "execution_count": null,
      "outputs": []
    }
  ]
}
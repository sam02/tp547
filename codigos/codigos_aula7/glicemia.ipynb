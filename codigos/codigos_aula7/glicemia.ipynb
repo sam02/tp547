{
  "nbformat": 4,
  "nbformat_minor": 0,
  "metadata": {
    "colab": {
      "provenance": []
    },
    "kernelspec": {
      "name": "python3",
      "display_name": "Python 3"
    },
    "language_info": {
      "name": "python"
    }
  },
  "cells": [
    {
      "cell_type": "code",
      "execution_count": null,
      "metadata": {
        "id": "dOgMP0Tx-ybE"
      },
      "outputs": [],
      "source": [
        "!pip install numpy\n",
        "!pip install scipy"
      ]
    },
    {
      "cell_type": "code",
      "source": [
        "import numpy as np\n",
        "import scipy.stats as sci\n",
        "N=25\n",
        "alpha=0.05\n",
        "Glicemia=np.array([80,118,100,90,83,117,95,84,102,80,112,78,102,121,82,77,88,73,104,88,132,91,103,140,101])\n",
        "media=np.mean(Glicemia)\n",
        "print(\"A média amostral e\", media)\n",
        "desvio=np.sqrt(np.var(Glicemia))\n",
        "print(\"O desvio padrão  amostral e\",desvio)\n",
        "limite=sci.t.ppf(1-alpha/2, N-1)\n",
        "print(limite)\n",
        "me= limite*desvio*np.sqrt(1/N) ;\n",
        "CI95_lower=media-me;\n",
        "CI95_upper=media+me;\n",
        "print(\"O valor do intervalo inferior e\",CI95_lower)\n",
        "print(\"O valor do intervalo superior e\",CI95_upper)"
      ],
      "metadata": {
        "id": "N3xR3I_K-zVm"
      },
      "execution_count": null,
      "outputs": []
    }
  ]
}
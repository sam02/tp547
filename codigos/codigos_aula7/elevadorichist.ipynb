{
  "nbformat": 4,
  "nbformat_minor": 0,
  "metadata": {
    "colab": {
      "provenance": []
    },
    "kernelspec": {
      "name": "python3",
      "display_name": "Python 3"
    },
    "language_info": {
      "name": "python"
    }
  },
  "cells": [
    {
      "cell_type": "code",
      "execution_count": null,
      "metadata": {
        "colab": {
          "base_uri": "https://localhost:8080/"
        },
        "id": "ICoCE1D8vgiz",
        "outputId": "2aee37ef-f1d0-4219-9ffd-172e112f52d3"
      },
      "outputs": [
        {
          "metadata": {
            "tags": null
          },
          "name": "stdout",
          "output_type": "stream",
          "text": [
            "Requirement already satisfied: numpy in /usr/local/lib/python3.10/dist-packages (1.25.2)\n",
            "Requirement already satisfied: matplotlib in /usr/local/lib/python3.10/dist-packages (3.7.1)\n",
            "Requirement already satisfied: contourpy>=1.0.1 in /usr/local/lib/python3.10/dist-packages (from matplotlib) (1.2.0)\n",
            "Requirement already satisfied: cycler>=0.10 in /usr/local/lib/python3.10/dist-packages (from matplotlib) (0.12.1)\n",
            "Requirement already satisfied: fonttools>=4.22.0 in /usr/local/lib/python3.10/dist-packages (from matplotlib) (4.49.0)\n",
            "Requirement already satisfied: kiwisolver>=1.0.1 in /usr/local/lib/python3.10/dist-packages (from matplotlib) (1.4.5)\n",
            "Requirement already satisfied: numpy>=1.20 in /usr/local/lib/python3.10/dist-packages (from matplotlib) (1.25.2)\n",
            "Requirement already satisfied: packaging>=20.0 in /usr/local/lib/python3.10/dist-packages (from matplotlib) (24.0)\n",
            "Requirement already satisfied: pillow>=6.2.0 in /usr/local/lib/python3.10/dist-packages (from matplotlib) (9.4.0)\n",
            "Requirement already satisfied: pyparsing>=2.3.1 in /usr/local/lib/python3.10/dist-packages (from matplotlib) (3.1.2)\n",
            "Requirement already satisfied: python-dateutil>=2.7 in /usr/local/lib/python3.10/dist-packages (from matplotlib) (2.8.2)\n",
            "Requirement already satisfied: six>=1.5 in /usr/local/lib/python3.10/dist-packages (from python-dateutil>=2.7->matplotlib) (1.16.0)\n"
          ]
        }
      ],
      "source": [
        "!pip install numpy\n",
        "!pip install matplotlib"
      ]
    },
    {
      "cell_type": "code",
      "source": [],
      "metadata": {
        "id": "fS63m1Wo3YOw"
      },
      "execution_count": null,
      "outputs": []
    },
    {
      "cell_type": "code",
      "source": [
        "import numpy as np\n",
        "import matplotlib.pyplot as plt\n",
        "\n",
        "A=0\n",
        "B=40\n",
        "N=10000\n",
        "xunimean=np.array([])\n",
        "for j in range(1,10000):\n",
        "  x=np.random.uniform(0,1,N)\n",
        "  Xab=A+(B-A)*x\n",
        "  media=np.mean(Xab)\n",
        "  xunimean=np.append(xunimean,media)\n",
        "media=np.mean(Xab)\n",
        "print(\"A média de uma realização e\",media)\n",
        "desvio=11.55;\n",
        "me= 1.96*desvio*np.sqrt(1/N) ;\n",
        "CI95_lower=media-me;\n",
        "CI95_upper=media+me;\n",
        "print(\"O valor do intervalo inferior da media da uniforme e\",CI95_lower)\n",
        "print(\"O valor do intervalo superior da media da uniforme e\",CI95_upper)\n",
        "plt.hist(xunimean,bins=100)\n",
        "plt.show()\n",
        "print(\"A média das medias de uma realização e\",np.mean(xunimean))"
      ],
      "metadata": {
        "colab": {
          "base_uri": "https://localhost:8080/",
          "height": 499
        },
        "id": "XUCub35kvl7n",
        "outputId": "c9de62e8-bfbe-4b92-bd72-4f30646d53a8"
      },
      "execution_count": 3,
      "outputs": [
        {
          "output_type": "stream",
          "name": "stdout",
          "text": [
            "A média de uma realização e 20.197580010448682\n",
            "O valor do intervalo inferior da media da uniforme e 19.971200010448683\n",
            "O valor do intervalo superior da media da uniforme e 20.42396001044868\n"
          ]
        },
        {
          "output_type": "display_data",
          "data": {
            "text/plain": [
              "<Figure size 640x480 with 1 Axes>"
            ],
            "image/png": "[encoded data removed]"
          },
          "metadata": {}
        },
        {
          "output_type": "stream",
          "name": "stdout",
          "text": [
            "A média das medias de uma realização e 19.99865905303647\n"
          ]
        }
      ]
    }
  ]
}
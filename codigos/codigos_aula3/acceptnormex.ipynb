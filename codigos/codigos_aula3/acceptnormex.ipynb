{
  "nbformat": 4,
  "nbformat_minor": 0,
  "metadata": {
    "colab": {
      "provenance": [],
      "authorship_tag": "ABX9TyNwZ2jo0UVHRwjjH+qJYQ/C",
      "include_colab_link": true
    },
    "kernelspec": {
      "name": "python3",
      "display_name": "Python 3"
    },
    "language_info": {
      "name": "python"
    }
  },
  "cells": [
    {
      "cell_type": "markdown",
      "metadata": {
        "id": "view-in-github",
        "colab_type": "text"
      },
      "source": [
        "<a href=\"https://colab.research.google.com/github/sam02/tp547/blob/main/codigos/codigos_aula3/acceptnormex.ipynb\" target=\"_parent\"><img src=\"https://colab.research.google.com/assets/colab-badge.svg\" alt=\"Open In Colab\"/></a>"
      ]
    },
    {
      "cell_type": "code",
      "execution_count": null,
      "metadata": {
        "id": "BZ5oUTj_Dtko"
      },
      "outputs": [],
      "source": [
        "!pip install numpy\n",
        "!pip install matplotlib\n",
        "!pip install scipy"
      ]
    },
    {
      "cell_type": "code",
      "source": [
        "import numpy as np\n",
        "import matplotlib.pyplot as plt\n",
        "\n",
        "import scipy.stats as sci\n",
        "\n",
        "n=100000\n",
        "xfunction=np.array([])\n",
        "mu=8;\n",
        "sigma=np.sqrt(4);\n",
        "value=6;\n",
        "\n",
        "count=0;\n",
        "\n",
        "for i in range(n):\n",
        "    x1=np.random.uniform(0,1)\n",
        "    xexp=-np.log(x1);\n",
        "    x2=np.random.uniform(0,1)\n",
        "\n",
        "    while (x2 >=(np.exp(-pow((xexp-1),2)/2))):\n",
        "        x1=np.random.uniform(0,1)\n",
        "        xexp=-np.log(x1);\n",
        "        x2=np.random.uniform(0,1)\n",
        "    x3=np.random.uniform(0,1)\n",
        "    if x3<=0.5:\n",
        "        xfunction = np.append(xfunction, xexp)\n",
        "    else:\n",
        "        xfunction = np.append(xfunction, -xexp)\n",
        "\n",
        "normvalue=sigma*xfunction+mu;\n",
        "\n",
        "print(normvalue)\n",
        "\n",
        "for uninormal in normvalue:\n",
        "    if uninormal<=value:\n",
        "        count=count+1\n",
        "prob=count/n\n",
        "print(\"a probabilidade e\",prob)\n",
        "\n",
        "probana=sci.norm.cdf((6-8)/2)\n",
        "print(\"a probabilidade analitica e\",probana)\n",
        "count=0\n",
        "for uninormal in normvalue:\n",
        "    if uninormal>8:\n",
        "        count=count+1\n",
        "prob1=count/n\n",
        "print(\"a probabilidade e\",prob1)\n",
        "\n",
        "probana=1-sci.norm.cdf((8-8)/2)\n",
        "print(\"a probabilidade analitica e\",probana)\n",
        "\n",
        "\n",
        "\n"
      ],
      "metadata": {
        "id": "doFgvRB-DuIs"
      },
      "execution_count": null,
      "outputs": []
    }
  ]
}
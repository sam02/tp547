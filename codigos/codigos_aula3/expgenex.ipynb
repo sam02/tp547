{
  "nbformat": 4,
  "nbformat_minor": 0,
  "metadata": {
    "colab": {
      "provenance": [],
      "authorship_tag": "ABX9TyOjLXM9VoAmQuTp+Z9W1Oi9",
      "include_colab_link": true
    },
    "kernelspec": {
      "name": "python3",
      "display_name": "Python 3"
    },
    "language_info": {
      "name": "python"
    }
  },
  "cells": [
    {
      "cell_type": "markdown",
      "metadata": {
        "id": "view-in-github",
        "colab_type": "text"
      },
      "source": [
        "<a href=\"https://colab.research.google.com/github/sam02/tp547/blob/main/codigos/codigos_aula3/expgenex.ipynb\" target=\"_parent\"><img src=\"https://colab.research.google.com/assets/colab-badge.svg\" alt=\"Open In Colab\"/></a>"
      ]
    },
    {
      "cell_type": "code",
      "execution_count": null,
      "metadata": {
        "id": "rO5XoQvfBmbM"
      },
      "outputs": [],
      "source": [
        "!pip install numpy\n",
        "!pip install matplotlib"
      ]
    },
    {
      "cell_type": "code",
      "source": [
        "import numpy as np\n",
        "import matplotlib.pyplot as plt\n",
        "\n",
        "\n",
        "N=10000\n",
        "lambda1=1/100\n",
        "x=np.random.uniform(0,1,N)\n",
        "value=40\n",
        "Xexp=-np.log(x)/lambda1\n",
        "count=0\n",
        "print(Xexp)\n",
        "\n",
        "\n",
        "for expvalue in Xexp:\n",
        "    if expvalue<=value:\n",
        "        count=count+1\n",
        "prob=count/N\n",
        "print(\"a probabilidade e\",prob)\n",
        "\n",
        "Probana=1-np.exp(-lambda1*value)\n",
        "print(\"a probabilidade analítica e\",Probana)"
      ],
      "metadata": {
        "id": "lJKIMUqgBt3E"
      },
      "execution_count": null,
      "outputs": []
    }
  ]
}
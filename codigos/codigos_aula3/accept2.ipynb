{
  "nbformat": 4,
  "nbformat_minor": 0,
  "metadata": {
    "colab": {
      "provenance": [],
      "authorship_tag": "ABX9TyNAPqj4qJj5AKtwNrcP5+jJ",
      "include_colab_link": true
    },
    "kernelspec": {
      "name": "python3",
      "display_name": "Python 3"
    },
    "language_info": {
      "name": "python"
    }
  },
  "cells": [
    {
      "cell_type": "markdown",
      "metadata": {
        "id": "view-in-github",
        "colab_type": "text"
      },
      "source": [
        "<a href=\"https://colab.research.google.com/github/sam02/tp547/blob/main/codigos/codigos_aula3/accept2.ipynb\" target=\"_parent\"><img src=\"https://colab.research.google.com/assets/colab-badge.svg\" alt=\"Open In Colab\"/></a>"
      ]
    },
    {
      "cell_type": "code",
      "execution_count": null,
      "metadata": {
        "id": "D6Q1ifkuCsJB"
      },
      "outputs": [],
      "source": [
        "!pip install numpy\n",
        "!pip install matplotlib"
      ]
    },
    {
      "cell_type": "code",
      "source": [
        "import numpy as np\n",
        "import matplotlib.pyplot as plt\n",
        "\n",
        "n=100000\n",
        "xfunction=np.array([])\n",
        "\n",
        "for i in range(n):\n",
        "    x1=np.random.uniform(0,2*np.pi)\n",
        "    x2=np.random.uniform(0,1)\n",
        "\n",
        "    while (x2 >=(1+np.sin(x1))/2):\n",
        "        x1=np.random.uniform(0,2*np.pi)\n",
        "        x2=np.random.uniform(0,1)\n",
        "    xfunction = np.append(xfunction, x1)\n",
        "\n",
        "print(xfunction)\n",
        "X=np.arange(0, 2*np.pi, 0.1)\n",
        "fx=(1+np.sin(X))/(2*np.pi)\n",
        "plt.plot(X,fx)\n",
        "plt.hist(xfunction,bins=100,density=True)\n",
        "plt.show()\n",
        "\n"
      ],
      "metadata": {
        "id": "NIj8ZvHACtex"
      },
      "execution_count": null,
      "outputs": []
    }
  ]
}
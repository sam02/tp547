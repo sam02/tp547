{
  "nbformat": 4,
  "nbformat_minor": 0,
  "metadata": {
    "colab": {
      "provenance": [],
      "authorship_tag": "ABX9TyMoqvNVJJl8Ott1VDItt2dI",
      "include_colab_link": true
    },
    "kernelspec": {
      "name": "python3",
      "display_name": "Python 3"
    },
    "language_info": {
      "name": "python"
    }
  },
  "cells": [
    {
      "cell_type": "markdown",
      "metadata": {
        "id": "view-in-github",
        "colab_type": "text"
      },
      "source": [
        "<a href=\"https://colab.research.google.com/github/sam02/tp547/blob/main/codigos/codigos_aula3/acceptnormex2.ipynb\" target=\"_parent\"><img src=\"https://colab.research.google.com/assets/colab-badge.svg\" alt=\"Open In Colab\"/></a>"
      ]
    },
    {
      "cell_type": "code",
      "execution_count": null,
      "metadata": {
        "id": "zHnpMl-bD744"
      },
      "outputs": [],
      "source": [
        "!pip install numpy\n",
        "!pip install matplotlib\n",
        "!pip install scipy"
      ]
    },
    {
      "cell_type": "code",
      "source": [
        "import numpy as np\n",
        "import matplotlib.pyplot as plt\n",
        "\n",
        "import scipy.stats as sci\n",
        "\n",
        "n=100000\n",
        "xfunction=np.array([])\n",
        "mu=11.15;\n",
        "sigma=2.238;\n",
        "value1=8.7;\n",
        "value2=14.7;\n",
        "\n",
        "count=0;\n",
        "\n",
        "for i in range(n):\n",
        "    x1=np.random.uniform(0,1)\n",
        "    xexp=-np.log(x1);\n",
        "    x2=np.random.uniform(0,1)\n",
        "\n",
        "    while (x2 >=(np.exp(-pow((xexp-1),2)/2))):\n",
        "        x1=np.random.uniform(0,1)\n",
        "        xexp=-np.log(x1);\n",
        "        x2=np.random.uniform(0,1)\n",
        "    x3=np.random.uniform(0,1)\n",
        "    if x3<=0.5:\n",
        "        xfunction = np.append(xfunction, xexp)\n",
        "    else:\n",
        "        xfunction = np.append(xfunction, -xexp)\n",
        "\n",
        "normvalue=sigma*xfunction+mu;\n",
        "\n",
        "print(normvalue)\n",
        "\n",
        "for uninormal in normvalue:\n",
        "    if value1<=uninormal<=value2:\n",
        "        count=count+1\n",
        "prob=count/n\n",
        "print(\"a probabilidade e\",prob)\n",
        "\n",
        "\n",
        "\n",
        "probana=sci.norm.cdf((14.7-11.15)/2.238)-sci.norm.cdf((8.7-11.15)/2.238)\n",
        "print(\"a probabilidade analitica e\",probana)\n"
      ],
      "metadata": {
        "id": "UKC4TGA5D-Ei"
      },
      "execution_count": null,
      "outputs": []
    }
  ]
}
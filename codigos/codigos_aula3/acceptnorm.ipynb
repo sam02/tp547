{
  "nbformat": 4,
  "nbformat_minor": 0,
  "metadata": {
    "colab": {
      "provenance": [],
      "authorship_tag": "ABX9TyMQI/1cFizZ25+wjG7H42c3",
      "include_colab_link": true
    },
    "kernelspec": {
      "name": "python3",
      "display_name": "Python 3"
    },
    "language_info": {
      "name": "python"
    }
  },
  "cells": [
    {
      "cell_type": "markdown",
      "metadata": {
        "id": "view-in-github",
        "colab_type": "text"
      },
      "source": [
        "<a href=\"https://colab.research.google.com/github/sam02/tp547/blob/main/codigos/codigos_aula3/acceptnorm.ipynb\" target=\"_parent\"><img src=\"https://colab.research.google.com/assets/colab-badge.svg\" alt=\"Open In Colab\"/></a>"
      ]
    },
    {
      "cell_type": "code",
      "execution_count": null,
      "metadata": {
        "id": "nFaHJVljDVRI"
      },
      "outputs": [],
      "source": [
        "!pip install numpy\n",
        "!pip install matplotlib"
      ]
    },
    {
      "cell_type": "code",
      "source": [
        "import numpy as np\n",
        "import matplotlib.pyplot as plt\n",
        "\n",
        "n=100000\n",
        "xfunction=np.array([])\n",
        "mu=8;\n",
        "sigma=np.sqrt(4);\n",
        "\n",
        "for i in range(n):\n",
        "    x1=np.random.uniform(0,1)\n",
        "    xexp=-np.log(x1);\n",
        "    x2=np.random.uniform(0,1)\n",
        "\n",
        "    while (x2 >=(np.exp(-pow((xexp-1),2)/2))):\n",
        "        x1=np.random.uniform(0,1)\n",
        "        xexp=-np.log(x1);\n",
        "        x2=np.random.uniform(0,1)\n",
        "    x3=np.random.uniform(0,1)\n",
        "    if x3<=0.5:\n",
        "        xfunction = np.append(xfunction, xexp)\n",
        "    else:\n",
        "        xfunction = np.append(xfunction, -xexp)\n",
        "\n",
        "normvalue=sigma*xfunction+mu;\n",
        "\n",
        "print(normvalue)\n",
        "X=np.arange(0, 15, 0.1)\n",
        "fx=1/(sigma*np.sqrt(2*np.pi))*np.exp(-pow((X-mu),2)/(2*pow(sigma,2)))\n",
        "plt.plot(X,fx)\n",
        "plt.hist(normvalue,bins=100,density=True)\n",
        "plt.show()\n",
        "\n"
      ],
      "metadata": {
        "id": "9E8u0yPgDWU6"
      },
      "execution_count": null,
      "outputs": []
    }
  ]
}
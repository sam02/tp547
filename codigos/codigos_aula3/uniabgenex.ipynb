{
  "nbformat": 4,
  "nbformat_minor": 0,
  "metadata": {
    "colab": {
      "provenance": [],
      "authorship_tag": "ABX9TyNiSroNS4AalMMJo7QcksdK",
      "include_colab_link": true
    },
    "kernelspec": {
      "name": "python3",
      "display_name": "Python 3"
    },
    "language_info": {
      "name": "python"
    }
  },
  "cells": [
    {
      "cell_type": "markdown",
      "metadata": {
        "id": "view-in-github",
        "colab_type": "text"
      },
      "source": [
        "<a href=\"https://colab.research.google.com/github/sam02/tp547/blob/main/codigos/codigos_aula3/uniabgenex.ipynb\" target=\"_parent\"><img src=\"https://colab.research.google.com/assets/colab-badge.svg\" alt=\"Open In Colab\"/></a>"
      ]
    },
    {
      "cell_type": "code",
      "execution_count": null,
      "metadata": {
        "colab": {
          "base_uri": "https://localhost:8080/"
        },
        "id": "GOH5bMEj-n2u",
        "outputId": "3ef324c4-5a6a-4bde-8db7-c58c7cbcaf45"
      },
      "outputs": [
        {
          "output_type": "stream",
          "name": "stdout",
          "text": [
            "Requirement already satisfied: numpy in /usr/local/lib/python3.10/dist-packages (1.25.2)\n"
          ]
        }
      ],
      "source": [
        "!pip install numpy"
      ]
    },
    {
      "cell_type": "code",
      "source": [
        "import numpy as np\n",
        "\n",
        "\n",
        "A=0\n",
        "B=40\n",
        "N=100000\n",
        "value=15\n",
        "count=0\n",
        "x=np.random.uniform(0,1,N)\n",
        "\n",
        "Xab=A+(B-A)*x\n",
        "print(Xab)\n",
        "\n",
        "for uniabvalue in Xab:\n",
        "    if uniabvalue<=value:\n",
        "        count=count+1\n",
        "prob=count/N\n",
        "print(\"a probabilidade e\",prob)\n",
        "\n",
        "Probana=(value-A)/(B-A)\n",
        "print(\"a probabilidade analítica e\",Probana)"
      ],
      "metadata": {
        "colab": {
          "base_uri": "https://localhost:8080/"
        },
        "id": "JmFRkblP-_6G",
        "outputId": "2cd8d3d5-2f73-4829-f5cb-a740fb300d1a"
      },
      "execution_count": null,
      "outputs": [
        {
          "output_type": "stream",
          "name": "stdout",
          "text": [
            "[11.49604886 35.06989994 37.31992415 ... 23.85076456  9.16131531\n",
            " 16.19435001]\n",
            "a probabilidade e 0.37536\n",
            "a probabilidade analítica e 0.375\n"
          ]
        }
      ]
    }
  ]
}
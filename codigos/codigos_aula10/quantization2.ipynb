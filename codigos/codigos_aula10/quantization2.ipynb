{
  "nbformat": 4,
  "nbformat_minor": 0,
  "metadata": {
    "colab": {
      "provenance": []
    },
    "kernelspec": {
      "name": "python3",
      "display_name": "Python 3"
    },
    "language_info": {
      "name": "python"
    }
  },
  "cells": [
    {
      "cell_type": "code",
      "source": [
        "!pip install numpy\n",
        "!pip install matplotlib"
      ],
      "metadata": {
        "id": "Fem2N_4wBrqT"
      },
      "execution_count": null,
      "outputs": []
    },
    {
      "cell_type": "code",
      "execution_count": null,
      "metadata": {
        "id": "JYnUG4j4BjYw"
      },
      "outputs": [],
      "source": [
        "import numpy as np\n",
        "import matplotlib.pyplot as plt\n",
        "\n",
        "d=3\n",
        "b=4\n",
        "q =d/b\n",
        "x = np.linspace(-1.5, 1.5, 1000)\n",
        "y = q * np.floor(x/q)+q/2\n",
        "plt.plot(x,y)\n",
        "plt.show()"
      ]
    }
  ]
}
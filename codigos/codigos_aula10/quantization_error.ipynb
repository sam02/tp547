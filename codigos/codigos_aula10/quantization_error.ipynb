{
  "nbformat": 4,
  "nbformat_minor": 0,
  "metadata": {
    "colab": {
      "provenance": []
    },
    "kernelspec": {
      "name": "python3",
      "display_name": "Python 3"
    },
    "language_info": {
      "name": "python"
    }
  },
  "cells": [
    {
      "cell_type": "code",
      "execution_count": null,
      "metadata": {
        "id": "ZO4pAFNIE6Tp"
      },
      "outputs": [],
      "source": [
        "!pip install numpy\n",
        "!pip install matplotlib"
      ]
    },
    {
      "cell_type": "code",
      "source": [
        "# Python example - Fourier transform using numpy.fft method\n",
        "\n",
        "import numpy as np\n",
        "\n",
        "import matplotlib.pyplot as plt\n",
        "\n",
        "# How many time points are needed i,e., Sampling Frequency\n",
        "\n",
        "samplingFrequency = 20;\n",
        "\n",
        "# At what intervals time points are sampled\n",
        "\n",
        "samplingInterval = 1 / samplingFrequency;\n",
        "\n",
        "# Begin time period of the signals\n",
        "\n",
        "beginTime = 0;\n",
        "\n",
        "# End time period of the signals\n",
        "\n",
        "endTime = 500;\n",
        "\n",
        "\n",
        "\n",
        "\n",
        "time = np.arange(beginTime, endTime, samplingInterval);\n",
        "\n",
        "# Create two sine waves\n",
        "\n",
        "amplitude1 = np.sin(6*time)\n",
        "plt.figure(1)\n",
        "plt.plot(time, amplitude1)\n",
        "\n",
        "plt.xlabel('Time')\n",
        "\n",
        "plt.ylabel('Amplitude')\n",
        "\n",
        "\n",
        "\n",
        "d=2\n",
        "n=16\n",
        "q =d/n\n",
        "y = q * np.floor(amplitude1/q)+q/2\n",
        "plt.figure(2)\n",
        "plt.plot(time,y)\n",
        "\n",
        "\n",
        "erro=y-amplitude1\n",
        "media1=np.mean(erro)\n",
        "print(media1)\n",
        "media1q=np.mean(erro**2)\n",
        "print(media1q)\n",
        "plt.figure(3)\n",
        "plt.hist(erro,bins=100,density=True)\n",
        "erro1=(0.125**2)/12\n",
        "print(erro1)\n",
        "plt.show()\n"
      ],
      "metadata": {
        "id": "Qm8z6SJQE8NL"
      },
      "execution_count": null,
      "outputs": []
    }
  ]
}
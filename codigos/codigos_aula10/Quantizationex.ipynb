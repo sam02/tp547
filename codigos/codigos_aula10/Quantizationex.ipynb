{
  "nbformat": 4,
  "nbformat_minor": 0,
  "metadata": {
    "colab": {
      "provenance": []
    },
    "kernelspec": {
      "name": "python3",
      "display_name": "Python 3"
    },
    "language_info": {
      "name": "python"
    }
  },
  "cells": [
    {
      "cell_type": "code",
      "source": [
        "!pip install numpy\n",
        "!pip install matplotlib"
      ],
      "metadata": {
        "id": "mtW_aVgoEBRI"
      },
      "execution_count": null,
      "outputs": []
    },
    {
      "cell_type": "code",
      "execution_count": null,
      "metadata": {
        "id": "QPcmXPVAD_yS"
      },
      "outputs": [],
      "source": [
        "import numpy as np\n",
        "import matplotlib.pyplot as plt\n",
        "\n",
        "d=3\n",
        "b=4\n",
        "q =d/b\n",
        "x = np.array([-1.2,-0.2, -0.5, 0.4, 0.89, 1.3])\n",
        "y = q * np.round(x/q)\n",
        "y2 = q * np.floor(x/q)+q/2\n",
        "print(y)\n",
        "print(y2)"
      ]
    }
  ]
}
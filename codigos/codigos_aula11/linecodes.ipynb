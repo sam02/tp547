{
  "nbformat": 4,
  "nbformat_minor": 0,
  "metadata": {
    "colab": {
      "provenance": [],
      "authorship_tag": "ABX9TyPWtt1EVsO3S+M3m0/VYPQj",
      "include_colab_link": true
    },
    "kernelspec": {
      "name": "python3",
      "display_name": "Python 3"
    },
    "language_info": {
      "name": "python"
    }
  },
  "cells": [
    {
      "cell_type": "markdown",
      "metadata": {
        "id": "view-in-github",
        "colab_type": "text"
      },
      "source": [
        "<a href=\"https://colab.research.google.com/github/sam02/tp547/blob/main/codigos/codigos_aula11/linecodes.ipynb\" target=\"_parent\"><img src=\"https://colab.research.google.com/assets/colab-badge.svg\" alt=\"Open In Colab\"/></a>"
      ]
    },
    {
      "cell_type": "code",
      "execution_count": null,
      "metadata": {
        "id": "4lCUTdTDHEbX"
      },
      "outputs": [],
      "source": [
        "!pip install numpy\n",
        "!pip install matplotlib"
      ]
    },
    {
      "cell_type": "code",
      "source": [
        "# -*- coding: utf-8 -*-\n",
        "\n",
        "\n",
        "import numpy as np\n",
        "import matplotlib.pyplot as plt\n",
        "\n",
        "L = 32 # number of digital samples per data bit\n",
        "Fs = 8*L # Sampling frequency\n",
        "voltageLevel = 5 # peak voltage level in Volts\n",
        "data = (np.random.rand(10000)>0.5).astype(int) # random 1s and 0s for data\n",
        "clk = np.arange(0,2*len(data)) % 2 # clock samples\n",
        "print(clk)\n",
        "\"\"\"**AMI encoding**\"\"\"\n",
        "\n",
        "ami = 1*data; previousOne = 0\n",
        "\n",
        "for ii in range(0,len(data)):\n",
        "  if (ami[ii]==1) and (previousOne==0):\n",
        "    ami[ii] = voltageLevel\n",
        "    previousOne=1;\n",
        "  if (ami[ii]==1) and (previousOne==1):\n",
        "    ami[ii]= -voltageLevel\n",
        "    previousOne = 0;\n",
        "\n",
        "\"\"\"**Converting the bits to sequences and mapping to voltage levels**\"\"\"\n",
        "\n",
        "clk_sequence = np.repeat(clk,L)\n",
        "data_sequence = np.repeat(data,2*L)\n",
        "unipolar_nrz_l = voltageLevel*data_sequence\n",
        "nrz_encoded = voltageLevel*(2*data_sequence - 1)\n",
        "unipolar_rz = voltageLevel * (data_sequence * (1 - clk_sequence))\n",
        "ami_sequence = np.repeat(ami,2*L)\n",
        "manchester_encoded = voltageLevel* (2*np.logical_xor(data_sequence,clk_sequence).astype(int)-1)\n",
        "\n",
        "fig, ax = plt.subplots(7,1,sharex='col', figsize=(10, 14))\n",
        "ax[0].plot(clk_sequence[0:800]);ax[0].set_title('Clock')\n",
        "ax[1].plot(data_sequence[0:800]);ax[1].set_title('Data')\n",
        "ax[2].plot(unipolar_nrz_l[0:800]); ax[2].set_title('Unipolar non-return-to-zero level')\n",
        "ax[3].plot(nrz_encoded[0:800]); ax[3].set_title('Bipolar Non-return-to-zero level')\n",
        "ax[4].plot(unipolar_rz[0:800]); ax[4].set_title('Unipolar return-to-zero')\n",
        "ax[5].plot(ami_sequence[0:800]); ax[5].set_title('Alternate Mark Inversion (AMI)')\n",
        "ax[6].plot(manchester_encoded[0:800]); ax[6].set_title('Manchester Encoded - IEEE 802.3')\n",
        "plt.show()\n",
        "\n"
      ],
      "metadata": {
        "id": "5wWkVM1SHGX4"
      },
      "execution_count": null,
      "outputs": []
    }
  ]
}